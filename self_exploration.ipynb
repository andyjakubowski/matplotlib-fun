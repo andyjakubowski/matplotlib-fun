{
 "cells": [
  {
   "cell_type": "markdown",
   "metadata": {},
   "source": [
    "# Exploring Matplotlib on my own ⏣\n",
    "---\n",
    "\n",
    "I’ve done a couple of [Matplotlib tutorials](https://matplotlib.org/tutorials/index.html), and now I want to practice making my own visualizations of data.\n",
    "\n",
    "Here are a few starting points, but I’m sure more ideas will come. The point is to become good at using the common Matplotlib APIs.\n",
    "\n",
    "- exploring a loaded dataset: distribution, min, max, 2d histogram\n",
    "- visualizing an image\n",
    "- visualizing a confusion matrix (true positives, false positives, true negatives, false negatives)\n",
    "- blurring an image\n",
    "- contour plot of loss for two input features\n",
    "- plot loss given number of gradient descent iterations"
   ]
  },
  {
   "cell_type": "markdown",
   "metadata": {},
   "source": [
    "## Initial setup 🐝\n",
    "---"
   ]
  },
  {
   "cell_type": "code",
   "execution_count": 17,
   "metadata": {},
   "outputs": [],
   "source": [
    "import numpy as np\n",
    "import matplotlib.pyplot as plt\n",
    "import matplotlib.image as mpimg\n",
    "import sklearn.datasets\n",
    "import inspect\n",
    "import pprint"
   ]
  },
  {
   "cell_type": "markdown",
   "metadata": {},
   "source": [
    "### Load a dataset using Scikit-Learn\n",
    "\n",
    "`sklearn` gives me an object of type:"
   ]
  },
  {
   "cell_type": "markdown",
   "metadata": {},
   "source": [
    "I need some sample data to play with. I’ll try to use the built-in [datasets of Scikit-Learn](https://scikit-learn.org/stable/datasets/index.html)."
   ]
  },
  {
   "cell_type": "code",
   "execution_count": 15,
   "metadata": {},
   "outputs": [
    {
     "data": {
      "text/plain": [
       "sklearn.utils.Bunch"
      ]
     },
     "execution_count": 15,
     "metadata": {},
     "output_type": "execute_result"
    }
   ],
   "source": [
    "boston = sklearn.datasets.load_boston()\n",
    "type(boston)"
   ]
  },
  {
   "cell_type": "code",
   "execution_count": 14,
   "metadata": {
    "scrolled": true
   },
   "outputs": [
    {
     "name": "stdout",
     "output_type": "stream",
     "text": [
      "Container object exposing keys as attributes\n",
      "\n",
      "Bunch objects are sometimes used as an output for functions and methods.\n",
      "They extend dictionaries by enabling values to be accessed by key,\n",
      "`bunch[\"value_key\"]`, or by an attribute, `bunch.value_key`.\n",
      "\n",
      "Examples\n",
      "--------\n",
      ">>> b = Bunch(a=1, b=2)\n",
      ">>> b['b']\n",
      "2\n",
      ">>> b.b\n",
      "2\n",
      ">>> b.a = 3\n",
      ">>> b['a']\n",
      "3\n",
      ">>> b.c = 6\n",
      ">>> b['c']\n",
      "6\n"
     ]
    }
   ],
   "source": [
    "print(inspect.getdoc(sklearn.utils.Bunch))"
   ]
  },
  {
   "cell_type": "markdown",
   "metadata": {},
   "source": [
    "Okay, so it’s pretty much a Python `dict` that I can access by attribute:"
   ]
  },
  {
   "cell_type": "code",
   "execution_count": 49,
   "metadata": {},
   "outputs": [
    {
     "name": "stdout",
     "output_type": "stream",
     "text": [
      "{'DESCR': '.. _boston_dataset:\\n'\n",
      "          '\\n'\n",
      "          'Boston house prices dataset\\n'\n",
      "          '---------------------------\\n'\n",
      "          '\\n'\n",
      "          '**Data Set Characteristics:**  \\n'\n",
      "          '\\n'\n",
      "          '    :Number of Instances: 506 \\n'\n",
      "          '\\n'\n",
      "          '    :Number of Attributes: 13 numeric/categorical predictive. '\n",
      "          'Median Value (attribute 14) is usually the target.\\n'\n",
      "          '\\n'\n",
      "          '    :Attribute Information (in order):\\n'\n",
      "          '        - CRIM     per capita crime rate by town\\n'\n",
      "          '        - ZN       proportion of residential land zoned for lots '\n",
      "          'over 25,000 sq.ft.\\n'\n",
      "          '        - INDUS    proportion of non-retail business acres per '\n",
      "          'town\\n'\n",
      "          '        - CHAS     Charles River dummy variable (= 1 if tract '\n",
      "          'bounds river; 0 otherwise)\\n'\n",
      "          '        - NOX      nitric oxides concentration (parts per 10 '\n",
      "          'million)\\n'\n",
      "          '        - RM       average number of rooms per dwelling\\n'\n",
      "          '        - AGE      proportion of owner-occupied units built prior '\n",
      "          'to 1940\\n'\n",
      "          '        - DIS      weighted distances to five Boston employment '\n",
      "          'centres\\n'\n",
      "          '        - RAD      index of accessibility to radial highways\\n'\n",
      "          '        - TAX      full-value property-tax rate per $10,000\\n'\n",
      "          '        - PTRATIO  pupil-teacher ratio by town\\n'\n",
      "          '        - B        1000(Bk - 0.63)^2 where Bk is the proportion of '\n",
      "          'blacks by town\\n'\n",
      "          '        - LSTAT    % lower status of the population\\n'\n",
      "          \"        - MEDV     Median value of owner-occupied homes in $1000's\\n\"\n",
      "          '\\n'\n",
      "          '    :Missing Attribute Values: None\\n'\n",
      "          '\\n'\n",
      "          '    :Creator: Harrison, D. and Rubinfeld, D.L.\\n'\n",
      "          '\\n'\n",
      "          'This is a copy of UCI ML housing dataset.\\n'\n",
      "          'https://archive.ics.uci.edu/ml/machine-learning-databases/housing/\\n'\n",
      "          '\\n'\n",
      "          '\\n'\n",
      "          'This dataset was taken from the StatLib library which is maintained '\n",
      "          'at Carnegie Mellon University.\\n'\n",
      "          '\\n'\n",
      "          'The Boston house-price data of Harrison, D. and Rubinfeld, D.L. '\n",
      "          \"'Hedonic\\n\"\n",
      "          \"prices and the demand for clean air', J. Environ. Economics & \"\n",
      "          'Management,\\n'\n",
      "          \"vol.5, 81-102, 1978.   Used in Belsley, Kuh & Welsch, 'Regression \"\n",
      "          'diagnostics\\n'\n",
      "          \"...', Wiley, 1980.   N.B. Various transformations are used in the \"\n",
      "          'table on\\n'\n",
      "          'pages 244-261 of the latter.\\n'\n",
      "          '\\n'\n",
      "          'The Boston house-price data has been used in many machine learning '\n",
      "          'papers that address regression\\n'\n",
      "          'problems.   \\n'\n",
      "          '     \\n'\n",
      "          '.. topic:: References\\n'\n",
      "          '\\n'\n",
      "          \"   - Belsley, Kuh & Welsch, 'Regression diagnostics: Identifying \"\n",
      "          \"Influential Data and Sources of Collinearity', Wiley, 1980. \"\n",
      "          '244-261.\\n'\n",
      "          '   - Quinlan,R. (1993). Combining Instance-Based and Model-Based '\n",
      "          'Learning. In Proceedings on the Tenth International Conference of '\n",
      "          'Machine Learning, 236-243, University of Massachusetts, Amherst. '\n",
      "          'Morgan Kaufmann.\\n',\n",
      " 'data': array([[6.3200e-03, 1.8000e+01, 2.3100e+00, ..., 1.5300e+01, 3.9690e+02,\n",
      "        4.9800e+00],\n",
      "       [2.7310e-02, 0.0000e+00, 7.0700e+00, ..., 1.7800e+01, 3.9690e+02,\n",
      "        9.1400e+00],\n",
      "       [2.7290e-02, 0.0000e+00, 7.0700e+00, ..., 1.7800e+01, 3.9283e+02,\n",
      "        4.0300e+00],\n",
      "       ...,\n",
      "       [6.0760e-02, 0.0000e+00, 1.1930e+01, ..., 2.1000e+01, 3.9690e+02,\n",
      "        5.6400e+00],\n",
      "       [1.0959e-01, 0.0000e+00, 1.1930e+01, ..., 2.1000e+01, 3.9345e+02,\n",
      "        6.4800e+00],\n",
      "       [4.7410e-02, 0.0000e+00, 1.1930e+01, ..., 2.1000e+01, 3.9690e+02,\n",
      "        7.8800e+00]]),\n",
      " 'feature_names': array(['CRIM', 'ZN', 'INDUS', 'CHAS', 'NOX', 'RM', 'AGE', 'DIS', 'RAD',\n",
      "       'TAX', 'PTRATIO', 'B', 'LSTAT'], dtype='<U7'),\n",
      " 'filename': '/Users/andy/opt/anaconda3/envs/mpl_fun/lib/python3.8/site-packages/sklearn/datasets/data/boston_house_prices.csv',\n",
      " 'target': array([24. , 21.6, 34.7, 33.4, 36.2, 28.7, 22.9, 27.1, 16.5, 18.9, 15. ,\n",
      "       18.9, 21.7, 20.4, 18.2, 19.9, 23.1, 17.5, 20.2, 18.2, 13.6, 19.6,\n",
      "       15.2, 14.5, 15.6, 13.9, 16.6, 14.8, 18.4, 21. , 12.7, 14.5, 13.2,\n",
      "       13.1, 13.5, 18.9, 20. , 21. , 24.7, 30.8, 34.9, 26.6, 25.3, 24.7,\n",
      "       21.2, 19.3, 20. , 16.6, 14.4, 19.4, 19.7, 20.5, 25. , 23.4, 18.9,\n",
      "       35.4, 24.7, 31.6, 23.3, 19.6, 18.7, 16. , 22.2, 25. , 33. , 23.5,\n",
      "       19.4, 22. , 17.4, 20.9, 24.2, 21.7, 22.8, 23.4, 24.1, 21.4, 20. ,\n",
      "       20.8, 21.2, 20.3, 28. , 23.9, 24.8, 22.9, 23.9, 26.6, 22.5, 22.2,\n",
      "       23.6, 28.7, 22.6, 22. , 22.9, 25. , 20.6, 28.4, 21.4, 38.7, 43.8,\n",
      "       33.2, 27.5, 26.5, 18.6, 19.3, 20.1, 19.5, 19.5, 20.4, 19.8, 19.4,\n",
      "       21.7, 22.8, 18.8, 18.7, 18.5, 18.3, 21.2, 19.2, 20.4, 19.3, 22. ,\n",
      "       20.3, 20.5, 17.3, 18.8, 21.4, 15.7, 16.2, 18. , 14.3, 19.2, 19.6,\n",
      "       23. , 18.4, 15.6, 18.1, 17.4, 17.1, 13.3, 17.8, 14. , 14.4, 13.4,\n",
      "       15.6, 11.8, 13.8, 15.6, 14.6, 17.8, 15.4, 21.5, 19.6, 15.3, 19.4,\n",
      "       17. , 15.6, 13.1, 41.3, 24.3, 23.3, 27. , 50. , 50. , 50. , 22.7,\n",
      "       25. , 50. , 23.8, 23.8, 22.3, 17.4, 19.1, 23.1, 23.6, 22.6, 29.4,\n",
      "       23.2, 24.6, 29.9, 37.2, 39.8, 36.2, 37.9, 32.5, 26.4, 29.6, 50. ,\n",
      "       32. , 29.8, 34.9, 37. , 30.5, 36.4, 31.1, 29.1, 50. , 33.3, 30.3,\n",
      "       34.6, 34.9, 32.9, 24.1, 42.3, 48.5, 50. , 22.6, 24.4, 22.5, 24.4,\n",
      "       20. , 21.7, 19.3, 22.4, 28.1, 23.7, 25. , 23.3, 28.7, 21.5, 23. ,\n",
      "       26.7, 21.7, 27.5, 30.1, 44.8, 50. , 37.6, 31.6, 46.7, 31.5, 24.3,\n",
      "       31.7, 41.7, 48.3, 29. , 24. , 25.1, 31.5, 23.7, 23.3, 22. , 20.1,\n",
      "       22.2, 23.7, 17.6, 18.5, 24.3, 20.5, 24.5, 26.2, 24.4, 24.8, 29.6,\n",
      "       42.8, 21.9, 20.9, 44. , 50. , 36. , 30.1, 33.8, 43.1, 48.8, 31. ,\n",
      "       36.5, 22.8, 30.7, 50. , 43.5, 20.7, 21.1, 25.2, 24.4, 35.2, 32.4,\n",
      "       32. , 33.2, 33.1, 29.1, 35.1, 45.4, 35.4, 46. , 50. , 32.2, 22. ,\n",
      "       20.1, 23.2, 22.3, 24.8, 28.5, 37.3, 27.9, 23.9, 21.7, 28.6, 27.1,\n",
      "       20.3, 22.5, 29. , 24.8, 22. , 26.4, 33.1, 36.1, 28.4, 33.4, 28.2,\n",
      "       22.8, 20.3, 16.1, 22.1, 19.4, 21.6, 23.8, 16.2, 17.8, 19.8, 23.1,\n",
      "       21. , 23.8, 23.1, 20.4, 18.5, 25. , 24.6, 23. , 22.2, 19.3, 22.6,\n",
      "       19.8, 17.1, 19.4, 22.2, 20.7, 21.1, 19.5, 18.5, 20.6, 19. , 18.7,\n",
      "       32.7, 16.5, 23.9, 31.2, 17.5, 17.2, 23.1, 24.5, 26.6, 22.9, 24.1,\n",
      "       18.6, 30.1, 18.2, 20.6, 17.8, 21.7, 22.7, 22.6, 25. , 19.9, 20.8,\n",
      "       16.8, 21.9, 27.5, 21.9, 23.1, 50. , 50. , 50. , 50. , 50. , 13.8,\n",
      "       13.8, 15. , 13.9, 13.3, 13.1, 10.2, 10.4, 10.9, 11.3, 12.3,  8.8,\n",
      "        7.2, 10.5,  7.4, 10.2, 11.5, 15.1, 23.2,  9.7, 13.8, 12.7, 13.1,\n",
      "       12.5,  8.5,  5. ,  6.3,  5.6,  7.2, 12.1,  8.3,  8.5,  5. , 11.9,\n",
      "       27.9, 17.2, 27.5, 15. , 17.2, 17.9, 16.3,  7. ,  7.2,  7.5, 10.4,\n",
      "        8.8,  8.4, 16.7, 14.2, 20.8, 13.4, 11.7,  8.3, 10.2, 10.9, 11. ,\n",
      "        9.5, 14.5, 14.1, 16.1, 14.3, 11.7, 13.4,  9.6,  8.7,  8.4, 12.8,\n",
      "       10.5, 17.1, 18.4, 15.4, 10.8, 11.8, 14.9, 12.6, 14.1, 13. , 13.4,\n",
      "       15.2, 16.1, 17.8, 14.9, 14.1, 12.7, 13.5, 14.9, 20. , 16.4, 17.7,\n",
      "       19.5, 20.2, 21.4, 19.9, 19. , 19.1, 19.1, 20.1, 19.9, 19.6, 23.2,\n",
      "       29.8, 13.8, 13.3, 16.7, 12. , 14.6, 21.4, 23. , 23.7, 25. , 21.8,\n",
      "       20.6, 21.2, 19.1, 20.6, 15.2,  7. ,  8.1, 13.6, 20.1, 21.8, 24.5,\n",
      "       23.1, 19.7, 18.3, 21.2, 17.5, 16.8, 22.4, 20.6, 23.9, 22. , 11.9])}\n"
     ]
    }
   ],
   "source": [
    "pprint.pprint(boston)"
   ]
  },
  {
   "cell_type": "code",
   "execution_count": 47,
   "metadata": {},
   "outputs": [
    {
     "name": "stdout",
     "output_type": "stream",
     "text": [
      ".. _boston_dataset:\n",
      "\n",
      "Boston house prices dataset\n",
      "---------------------------\n",
      "\n",
      "**Data Set Characteristics:**  \n",
      "\n",
      "    :Number of Instances: 506 \n",
      "\n",
      "    :Number of Attributes: 13 numeric/categorical predictive. Median Value (attribute 14) is usually the target.\n",
      "\n",
      "    :Attribute Information (in order):\n",
      "        - CRIM     per capita crime rate by town\n",
      "        - ZN       proportion of residential land zoned for lots over 25,000 sq.ft.\n",
      "        - INDUS    proportion of non-retail business acres per town\n",
      "        - CHAS     Charles River dummy variable (= 1 if tract bounds river; 0 otherwise)\n",
      "        - NOX      nitric oxides concentration (parts per 10 million)\n",
      "        - RM       average number of rooms per dwelling\n",
      "        - AGE      proportion of owner-occupied units built prior to 1940\n",
      "        - DIS      weighted distances to five Boston employment centres\n",
      "        - RAD      index of accessibility to radial highways\n",
      "        - TAX      full-value property-tax rate per $10,000\n",
      "        - PTRATIO  pupil-teacher ratio by town\n",
      "        - B        1000(Bk - 0.63)^2 where Bk is the proportion of blacks by town\n",
      "        - LSTAT    % lower status of the population\n",
      "        - MEDV     Median value of owner-occupied homes in $1000's\n",
      "\n",
      "    :Missing Attribute Values: None\n",
      "\n",
      "    :Creator: Harrison, D. and Rubinfeld, D.L.\n",
      "\n",
      "This is a copy of UCI ML housing dataset.\n",
      "https://archive.ics.uci.edu/ml/machine-learning-databases/housing/\n",
      "\n",
      "\n",
      "This dataset was taken from the StatLib library which is maintained at Carnegie Mellon University.\n",
      "\n",
      "The Boston house-price data of Harrison, D. and Rubinfeld, D.L. 'Hedonic\n",
      "prices and the demand for clean air', J. Environ. Economics & Management,\n",
      "vol.5, 81-102, 1978.   Used in Belsley, Kuh & Welsch, 'Regression diagnostics\n",
      "...', Wiley, 1980.   N.B. Various transformations are used in the table on\n",
      "pages 244-261 of the latter.\n",
      "\n",
      "The Boston house-price data has been used in many machine learning papers that address regression\n",
      "problems.   \n",
      "     \n",
      ".. topic:: References\n",
      "\n",
      "   - Belsley, Kuh & Welsch, 'Regression diagnostics: Identifying Influential Data and Sources of Collinearity', Wiley, 1980. 244-261.\n",
      "   - Quinlan,R. (1993). Combining Instance-Based and Model-Based Learning. In Proceedings on the Tenth International Conference of Machine Learning, 236-243, University of Massachusetts, Amherst. Morgan Kaufmann.\n",
      "\n"
     ]
    }
   ],
   "source": [
    "print(boston.DESCR)"
   ]
  },
  {
   "cell_type": "code",
   "execution_count": 19,
   "metadata": {},
   "outputs": [
    {
     "data": {
      "text/plain": [
       "['data', 'target', 'feature_names', 'DESCR', 'filename']"
      ]
     },
     "execution_count": 19,
     "metadata": {},
     "output_type": "execute_result"
    }
   ],
   "source": [
    "list(boston)"
   ]
  },
  {
   "cell_type": "code",
   "execution_count": 24,
   "metadata": {},
   "outputs": [
    {
     "data": {
      "text/plain": [
       "(506, 13)"
      ]
     },
     "execution_count": 24,
     "metadata": {},
     "output_type": "execute_result"
    }
   ],
   "source": [
    "boston.data.shape"
   ]
  },
  {
   "cell_type": "code",
   "execution_count": 26,
   "metadata": {},
   "outputs": [
    {
     "data": {
      "text/plain": [
       "(506,)"
      ]
     },
     "execution_count": 26,
     "metadata": {},
     "output_type": "execute_result"
    }
   ],
   "source": [
    "boston.target.shape"
   ]
  },
  {
   "cell_type": "code",
   "execution_count": 36,
   "metadata": {},
   "outputs": [
    {
     "name": "stdout",
     "output_type": "stream",
     "text": [
      "['CRIM' 'ZN' 'INDUS' 'CHAS' 'NOX' 'RM' 'AGE' 'DIS' 'RAD' 'TAX' 'PTRATIO'\n",
      " 'B' 'LSTAT']\n",
      "13\n"
     ]
    }
   ],
   "source": [
    "print(boston.feature_names)\n",
    "print(boston.feature_names.size)"
   ]
  },
  {
   "cell_type": "code",
   "execution_count": 30,
   "metadata": {
    "scrolled": true
   },
   "outputs": [
    {
     "name": "stdout",
     "output_type": "stream",
     "text": [
      "/Users/andy/opt/anaconda3/envs/mpl_fun/lib/python3.8/site-packages/sklearn/datasets/data/boston_house_prices.csv\n"
     ]
    }
   ],
   "source": [
    "print(boston.filename)"
   ]
  },
  {
   "cell_type": "code",
   "execution_count": 54,
   "metadata": {},
   "outputs": [
    {
     "name": "stdout",
     "output_type": "stream",
     "text": [
      "array([[6.3200e-03, 1.8000e+01, 2.3100e+00, 0.0000e+00, 5.3800e-01,\n",
      "        6.5750e+00, 6.5200e+01, 4.0900e+00, 1.0000e+00, 2.9600e+02,\n",
      "        1.5300e+01, 3.9690e+02, 4.9800e+00],\n",
      "       [2.7310e-02, 0.0000e+00, 7.0700e+00, 0.0000e+00, 4.6900e-01,\n",
      "        6.4210e+00, 7.8900e+01, 4.9671e+00, 2.0000e+00, 2.4200e+02,\n",
      "        1.7800e+01, 3.9690e+02, 9.1400e+00],\n",
      "       [2.7290e-02, 0.0000e+00, 7.0700e+00, 0.0000e+00, 4.6900e-01,\n",
      "        7.1850e+00, 6.1100e+01, 4.9671e+00, 2.0000e+00, 2.4200e+02,\n",
      "        1.7800e+01, 3.9283e+02, 4.0300e+00]])\n",
      "array([[6.0760e-02, 0.0000e+00, 1.1930e+01, 0.0000e+00, 5.7300e-01,\n",
      "        6.9760e+00, 9.1000e+01, 2.1675e+00, 1.0000e+00, 2.7300e+02,\n",
      "        2.1000e+01, 3.9690e+02, 5.6400e+00],\n",
      "       [1.0959e-01, 0.0000e+00, 1.1930e+01, 0.0000e+00, 5.7300e-01,\n",
      "        6.7940e+00, 8.9300e+01, 2.3889e+00, 1.0000e+00, 2.7300e+02,\n",
      "        2.1000e+01, 3.9345e+02, 6.4800e+00],\n",
      "       [4.7410e-02, 0.0000e+00, 1.1930e+01, 0.0000e+00, 5.7300e-01,\n",
      "        6.0300e+00, 8.0800e+01, 2.5050e+00, 1.0000e+00, 2.7300e+02,\n",
      "        2.1000e+01, 3.9690e+02, 7.8800e+00]])\n"
     ]
    }
   ],
   "source": [
    "# First 3 instances\n",
    "print(repr(boston.data[:3, :]))\n",
    "\n",
    "# Last 3\n",
    "print(repr(boston.data[-3:, :]))"
   ]
  },
  {
   "cell_type": "code",
   "execution_count": 56,
   "metadata": {},
   "outputs": [
    {
     "data": {
      "text/plain": [
       "array([2.7310e-02, 0.0000e+00, 7.0700e+00, 0.0000e+00, 4.6900e-01,\n",
       "       6.4210e+00, 7.8900e+01, 4.9671e+00, 2.0000e+00, 2.4200e+02,\n",
       "       1.7800e+01, 3.9690e+02, 9.1400e+00])"
      ]
     },
     "execution_count": 56,
     "metadata": {},
     "output_type": "execute_result"
    }
   ],
   "source": [
    "boston.data[1, :]"
   ]
  },
  {
   "cell_type": "markdown",
   "metadata": {},
   "source": [
    "### Plot number of rooms and median home value"
   ]
  },
  {
   "cell_type": "code",
   "execution_count": 44,
   "metadata": {},
   "outputs": [
    {
     "data": {
      "text/plain": [
       "5"
      ]
     },
     "execution_count": 44,
     "metadata": {},
     "output_type": "execute_result"
    }
   ],
   "source": [
    "room_index = list(boston.feature_names).index('RM')\n",
    "room_index"
   ]
  },
  {
   "cell_type": "code",
   "execution_count": 62,
   "metadata": {},
   "outputs": [
    {
     "data": {
      "text/plain": [
       "(506,)"
      ]
     },
     "execution_count": 62,
     "metadata": {},
     "output_type": "execute_result"
    }
   ],
   "source": [
    "rooms = boston.data[:, room_index]\n",
    "rooms.shape"
   ]
  },
  {
   "cell_type": "code",
   "execution_count": 63,
   "metadata": {},
   "outputs": [
    {
     "data": {
      "text/plain": [
       "(506,)"
      ]
     },
     "execution_count": 63,
     "metadata": {},
     "output_type": "execute_result"
    }
   ],
   "source": [
    "y = boston.target\n",
    "y.shape"
   ]
  },
  {
   "cell_type": "code",
   "execution_count": 96,
   "metadata": {},
   "outputs": [
    {
     "name": "stdout",
     "output_type": "stream",
     "text": [
      "Figure(432x288)\n",
      "figure size: 6.0 x 4.0 inches\n",
      "dpi: 72.0\n"
     ]
    },
    {
     "data": {
      "text/plain": [
       "<matplotlib.collections.PathCollection at 0x161d0aa90>"
      ]
     },
     "execution_count": 96,
     "metadata": {},
     "output_type": "execute_result"
    },
    {
     "data": {
      "image/png": "[encoded data removed]",
      "text/plain": [
       "<Figure size 432x288 with 1 Axes>"
      ]
     },
     "metadata": {},
     "output_type": "display_data"
    }
   ],
   "source": [
    "figure = plt.figure(facecolor='olivedrab')\n",
    "print(figure)\n",
    "print(f\"figure size: {figure.get_figwidth()} x {figure.get_figheight()} inches\")\n",
    "print(f\"dpi: {figure.dpi}\")\n",
    "plt.scatter(rooms, y, alpha=0.4)"
   ]
  },
  {
   "cell_type": "code",
   "execution_count": 100,
   "metadata": {},
   "outputs": [
    {
     "name": "stdout",
     "output_type": "stream",
     "text": [
      "Figure(110x110)\n",
      "figure size: 1.0 x 1.0 inches\n",
      "dpi: 110\n"
     ]
    },
    {
     "data": {
      "text/plain": [
       "<matplotlib.collections.PathCollection at 0x1622d8d90>"
      ]
     },
     "execution_count": 100,
     "metadata": {},
     "output_type": "execute_result"
    },
    {
     "data": {
      "image/png": "[encoded data removed]",
      "text/plain": [
       "<Figure size 110x110 with 1 Axes>"
      ]
     },
     "metadata": {},
     "output_type": "display_data"
    }
   ],
   "source": [
    "figure = plt.figure(facecolor='olivedrab', dpi=110, figsize=(1, 1))\n",
    "print(figure)\n",
    "print(f\"figure size: {figure.get_figwidth()} x {figure.get_figheight()} inches\")\n",
    "print(f\"dpi: {figure.dpi}\")\n",
    "plt.scatter(rooms, y, alpha=0.4)"
   ]
  },
  {
   "cell_type": "code",
   "execution_count": 77,
   "metadata": {},
   "outputs": [
    {
     "data": {
      "text/plain": [
       "[]"
      ]
     },
     "execution_count": 77,
     "metadata": {},
     "output_type": "execute_result"
    }
   ],
   "source": []
  },
  {
   "cell_type": "markdown",
   "metadata": {},
   "source": [
    "## Minimal, stripped figure\n",
    "---"
   ]
  },
  {
   "cell_type": "code",
   "execution_count": 128,
   "metadata": {},
   "outputs": [
    {
     "data": {
      "image/png": "[encoded data removed]",
      "text/plain": [
       "<Figure size 192x192 with 1 Axes>"
      ]
     },
     "metadata": {},
     "output_type": "display_data"
    }
   ],
   "source": [
    "figure = plt.figure(facecolor='seashell', edgecolor='k', linewidth=1.0, dpi=, figsize=(2, 2))\n",
    "ax = plt.subplot()\n",
    "# plt.plot([1, 2, 3], [4, 9, 3])\n",
    "# ax.set_axis_off()\n",
    "# ax.scatter([1, 2, 3], [5, 9, 3], c='k')\n",
    "# plt.grid(True)\n",
    "# plt.title('Figure Title')\n",
    "# plt.show()"
   ]
  },
  {
   "cell_type": "markdown",
   "metadata": {},
   "source": [
    "## Exploring a loaded dataset: distribution, min, max, 2d histogram\n",
    "---"
   ]
  },
  {
   "cell_type": "markdown",
   "metadata": {},
   "source": [
    "## Visualizing an image\n",
    "---"
   ]
  },
  {
   "cell_type": "markdown",
   "metadata": {},
   "source": [
    "## Visualizing a confusion matrix (true positives, false positives, true negatives, false negatives)\n",
    "---"
   ]
  },
  {
   "cell_type": "markdown",
   "metadata": {},
   "source": [
    "## Blurring an image\n",
    "---"
   ]
  },
  {
   "cell_type": "markdown",
   "metadata": {},
   "source": [
    "## Contour plot of loss for two input features\n",
    "---"
   ]
  },
  {
   "cell_type": "markdown",
   "metadata": {},
   "source": [
    "## Plot loss given number of gradient descent iterations\n",
    "---"
   ]
  }
 ],
 "metadata": {
  "kernelspec": {
   "display_name": "mpl",
   "language": "python",
   "name": "mpl"
  },
  "language_info": {
   "codemirror_mode": {
    "name": "ipython",
    "version": 3
   },
   "file_extension": ".py",
   "mimetype": "text/x-python",
   "name": "python",
   "nbconvert_exporter": "python",
   "pygments_lexer": "ipython3",
   "version": "3.8.5"
  }
 },
 "nbformat": 4,
 "nbformat_minor": 4
}
